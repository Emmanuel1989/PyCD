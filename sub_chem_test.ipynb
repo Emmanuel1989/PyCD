{
  "nbformat": 4,
  "nbformat_minor": 0,
  "metadata": {
    "colab": {
      "provenance": [],
      "authorship_tag": "ABX9TyMPTCRdlhSFkf44rAgInOhr",
      "include_colab_link": true
    },
    "kernelspec": {
      "name": "python3",
      "display_name": "Python 3"
    },
    "language_info": {
      "name": "python"
    }
  },
  "cells": [
    {
      "cell_type": "markdown",
      "metadata": {
        "id": "view-in-github",
        "colab_type": "text"
      },
      "source": [
        "<a href=\"https://colab.research.google.com/github/Emmanuel1989/PyCD/blob/main/sub_chem_test.ipynb\" target=\"_parent\"><img src=\"https://colab.research.google.com/assets/colab-badge.svg\" alt=\"Open In Colab\"/></a>"
      ]
    },
    {
      "cell_type": "code",
      "execution_count": 35,
      "metadata": {
        "colab": {
          "base_uri": "https://localhost:8080/"
        },
        "id": "f8ZdTkPcHfQg",
        "outputId": "fc785d39-42cb-4e74-ccba-f93068fc8780"
      },
      "outputs": [
        {
          "output_type": "stream",
          "name": "stdout",
          "text": [
            "{http://www.org.cas.cds/CMS}CMS_DBP_parent_uri\n",
            "{http://www.org.cas.cds/CMS}CMSdoc\n",
            "{http://www.org.cas.cds/CMS}contacts_grp\n",
            "{http://www.org.cas.cds/CMS}chemcats_includes\n",
            "{http://www.org.cas.cds/CMS}vendor_specific\n"
          ]
        }
      ],
      "source": [
        "import xml.etree.ElementTree as ET\n",
        "mytree = ET.parse('part_12_complete.xml')\n",
        "root = mytree.getroot()\n",
        "for child in root:\n",
        "    print(child.tag)"
      ]
    },
    {
      "cell_type": "code",
      "source": [
        "from dataclasses import dataclass\n",
        "\n",
        "@dataclass\n",
        "class Substance:\n",
        "  experimental: int\n",
        "  url: str\n",
        "  substance_category: str\n",
        "  substance_full_name: str\n",
        "  bulk: str\n",
        "  screening: str"
      ],
      "metadata": {
        "id": "jRVoJ2DJTYIZ"
      },
      "execution_count": 65,
      "outputs": []
    },
    {
      "cell_type": "code",
      "source": [
        "elem1 = root.find(\"{http://www.org.cas.cds/CMS}CMSdoc\").find(\"{http://www.org.cas.cds/CMS}doc_type_grp\").find(\"{http://www.org.cas.cds/CMS}doc_type_specific_catalog\").find(\"{http://www.org.cas.cds/CMS}catalog_entries\")\n",
        "elem2 = elem1.findall(\"{http://www.org.cas.cds/CMS}catalog_entry\")\n",
        "list_substance_category = []\n",
        "for elem in elem2:\n",
        "  sub_full_name = \"\"\n",
        "  exp_props = elem2[0].find(\"{http://www.org.cas.cds/CMS}experimental_props\").text\n",
        "  url = elem2[0].find(\"{http://www.org.cas.cds/CMS}url\").text\n",
        "  sub_category = elem2[0].find(\"{http://www.org.cas.cds/CMS}substance_category\").text\n",
        "  if elem2[0].find(\"{http://www.org.cas.cds/CMS}catalog_substance_name\") != None and elem2[0].find(\"{http://www.org.cas.cds/CMS}catalog_substance_name\").find(\"{http://www.org.cas.cds/CMS}subst_name_full\") != None:\n",
        "    sub_full_name = elem2[0].find(\"{http://www.org.cas.cds/CMS}catalog_substance_name\").find(\"{http://www.org.cas.cds/CMS}subst_name_full\").text\n",
        "  bulk = elem2[0].find(\"{http://www.org.cas.cds/CMS}bulk\").text\n",
        "  screening = elem2[0].find(\"{http://www.org.cas.cds/CMS}screening\").text\n",
        "  sub = Substance(experimental= exp_props, url=url, substance_category=sub_category, substance_full_name=sub_full_name, bulk=bulk, screening=screening)\n",
        "  list_substance_category.append(sub)"
      ],
      "metadata": {
        "id": "TX8Ie_7DH9ld"
      },
      "execution_count": 71,
      "outputs": []
    },
    {
      "cell_type": "code",
      "source": [
        "print(list_substance_category[1])"
      ],
      "metadata": {
        "colab": {
          "base_uri": "https://localhost:8080/"
        },
        "id": "zv1sciFqVtc-",
        "outputId": "98868f2e-fbd0-46e8-bdad-d4295e79d0c0"
      },
      "execution_count": 72,
      "outputs": [
        {
          "output_type": "stream",
          "name": "stdout",
          "text": [
            "Substance(experimental='No', url='http://www.carbosynth.com/sf/FD95815', substance_category='Supplied by supplier', substance_full_name='3-(Difluoromethyl)-1,4,5,6-tetrahydrocyclopenta[c]pyrazole', bulk='No', screening='No')\n"
          ]
        }
      ]
    }
  ]
}